{
  "nbformat": 4,
  "nbformat_minor": 0,
  "metadata": {
    "colab": {
      "name": "LSH_Index.ipynb",
      "provenance": [],
      "collapsed_sections": [],
      "toc_visible": true
    },
    "kernelspec": {
      "name": "python3",
      "display_name": "Python 3"
    }
  },
  "cells": [
    {
      "cell_type": "markdown",
      "metadata": {
        "id": "tFNsRyM6mTFO"
      },
      "source": [
        "# **Mount**\r\n",
        "\r\n",
        "Mount the google drive"
      ]
    },
    {
      "cell_type": "code",
      "metadata": {
        "colab": {
          "base_uri": "https://localhost:8080/"
        },
        "id": "v3uLlTGd8stE",
        "outputId": "d9c9df7a-4360-40a4-c3d6-8886812041c7"
      },
      "source": [
        "from google.colab import drive\r\n",
        "drive.mount('/content/gdrive')"
      ],
      "execution_count": null,
      "outputs": [
        {
          "output_type": "stream",
          "text": [
            "Mounted at /content/gdrive\n"
          ],
          "name": "stdout"
        }
      ]
    },
    {
      "cell_type": "markdown",
      "metadata": {
        "id": "xPj-wftQmrEx"
      },
      "source": [
        "# Setup\r\n",
        "\r\n",
        "We setup the path of the ids and features numpy,saved at the end of the features extraction"
      ]
    },
    {
      "cell_type": "code",
      "metadata": {
        "id": "STZfZEzg82x9"
      },
      "source": [
        "import numpy as np\r\n",
        "\r\n",
        "ids_path = '/content/gdrive/MyDrive/progetto/pickles/image_ids.npy'\r\n",
        "features_path = '/content/gdrive/MyDrive/progetto/pickles/image_features.npy'\r\n",
        "labels_path = '/content/gdrive/MyDrive/progetto/pickles/image_labels.npy'"
      ],
      "execution_count": null,
      "outputs": []
    },
    {
      "cell_type": "code",
      "metadata": {
        "colab": {
          "base_uri": "https://localhost:8080/",
          "height": 35
        },
        "id": "IGwXzBq_IkEB",
        "outputId": "89e5be88-a148-4101-f34f-eb80b302ed43"
      },
      "source": [
        "'''\r\n",
        "# Unzipping dataset\r\n",
        "%cd '/content/gdrive/MyDrive/progetto/dbs/' \r\n",
        "!unzip -q total_dbs.zip\r\n",
        "'''"
      ],
      "execution_count": null,
      "outputs": [
        {
          "output_type": "execute_result",
          "data": {
            "application/vnd.google.colaboratory.intrinsic+json": {
              "type": "string"
            },
            "text/plain": [
              "\"\\n# Unzipping dataset\\n%cd '/content/gdrive/MyDrive/progetto/dbs/' \\n!unzip -q total_dbs.zip\\n\""
            ]
          },
          "metadata": {
            "tags": []
          },
          "execution_count": 36
        }
      ]
    },
    {
      "cell_type": "markdown",
      "metadata": {
        "id": "div_a9FqnJQW"
      },
      "source": [
        "# **Load dataset**\r\n",
        "\r\n",
        "Load the numpy files"
      ]
    },
    {
      "cell_type": "code",
      "metadata": {
        "colab": {
          "base_uri": "https://localhost:8080/"
        },
        "id": "qpZMB_jpxbvM",
        "outputId": "d6307ec7-c2d0-492f-f0b4-c2f62bd39251"
      },
      "source": [
        "!ls /content/gdrive -all"
      ],
      "execution_count": null,
      "outputs": [
        {
          "output_type": "stream",
          "text": [
            "total 20\n",
            "dr-x------  2 root root 4096 Feb  3 21:29 .file-revisions-by-id\n",
            "drwx------ 10 root root 4096 Feb  3 21:29 MyDrive\n",
            "drwx------  2 root root 4096 Feb  3 21:29 Shareddrives\n",
            "dr-x------  3 root root 4096 Feb  3 21:29 .shortcut-targets-by-id\n",
            "drwx------  2 root root 4096 Feb  3 21:29 .Trash\n"
          ],
          "name": "stdout"
        }
      ]
    },
    {
      "cell_type": "code",
      "metadata": {
        "id": "7_pA5uQm9Wrh"
      },
      "source": [
        "numpy_ids = np.load(ids_path)\r\n",
        "numpy_features = np.load(features_path)\r\n",
        "numpy_labels = np.load(labels_path)\r\n",
        "\r\n",
        "mean =  np.mean(numpy_features,axis=0)\r\n",
        "std = np.std(numpy_features,axis=0)"
      ],
      "execution_count": null,
      "outputs": []
    },
    {
      "cell_type": "code",
      "metadata": {
        "id": "uzmHXvPSPWgd"
      },
      "source": [
        "class Image:\r\n",
        "\r\n",
        "  def __init__(self,id,features, label = -2):\r\n",
        "    self.id = id\r\n",
        "    self.features = features\r\n",
        "    self.label = label\r\n",
        "  \r\n",
        "  def get_id(self):\r\n",
        "    return self.id\r\n",
        "  \r\n",
        "  def get_label(self):\r\n",
        "    return self.label\r\n",
        "  \r\n",
        "  def get_features(self):\r\n",
        "    return self.features"
      ],
      "execution_count": null,
      "outputs": []
    },
    {
      "cell_type": "markdown",
      "metadata": {
        "id": "qZTwJpl1sogn"
      },
      "source": [
        "# **Hash Function**\r\n",
        "\r\n",
        "HashFunction is the structure implementing a g function.\r\n",
        "Its parameters are:\r\n",
        "\r\n",
        "1. k = number of sub-hash functions\r\n",
        "2. X[i] = hyperplane correspondig to the i-sub-hash function\r\n",
        "3. d = len(X[i])\r\n",
        "4. w = size of the segment = 4\r\n",
        "5. b[i] = offset of the i-segment\r\n",
        "6. m = mean of the Gaussian for extracting the planes\r\n",
        "7. s = std of the Gaussian for extracting the planes\r\n"
      ]
    },
    {
      "cell_type": "code",
      "metadata": {
        "id": "qiePJE9qsp3G"
      },
      "source": [
        "class HashFunction:\r\n",
        "\r\n",
        "  def __init__(self, k, d, m, s, w = 4 ):\r\n",
        "    self.k = k\r\n",
        "    self.m = m\r\n",
        "    self.d = d\r\n",
        "    self.s = s\r\n",
        "    self.w = w\r\n",
        "\r\n",
        "    self.b = []\r\n",
        "    self.X = []\r\n",
        "    for i in range(k):\r\n",
        "      self.b.append( np.random.uniform(0, w))\r\n",
        "    self.X = np.array([np.random.normal(loc=m[i],scale=s[i],size=k) for i in range(d)])\r\n",
        "    self.X = np.transpose(self.X)\r\n",
        "    \r\n",
        "  def hash(self, value, i):\r\n",
        "    return int( (np.dot(self.X[i], value) + self.b[i])/self.w )\r\n",
        "\r\n",
        "  def index( self, value ):\r\n",
        "    if( len( value ) != self.d  ):\r\n",
        "      return False\r\n",
        "    return \"\".join([str(self.hash(value,i)) for i in range(self.k)])"
      ],
      "execution_count": null,
      "outputs": []
    },
    {
      "cell_type": "markdown",
      "metadata": {
        "id": "kZ9qhvh5oJV0"
      },
      "source": [
        "# **Hash Table**\r\n",
        "\r\n",
        "We will create each hash table as a dictionary. Each line of the table will have all the ids of the image whose features share the projection on the same hyperplane.\r\n",
        "We will have as many hash table as the number of g function we want to be implemented\r\n",
        "Each HashTable has its own g function used to obtain the hash key"
      ]
    },
    {
      "cell_type": "code",
      "metadata": {
        "id": "Md2kx_-D5aw-"
      },
      "source": [
        "class HashTable:\r\n",
        "\r\n",
        "  def __init__(self,hash_size,input_dim,mean,std):\r\n",
        "    self.table = dict()\r\n",
        "    self.g_function = HashFunction(hash_size,input_dim,mean,std)\r\n",
        "  \r\n",
        "  def add_value(self, id, features, label = -1):\r\n",
        "    hash_key = self.g_function.index(features)\r\n",
        "    image = Image(id,features, label)\r\n",
        "    if hash_key not in self.table:\r\n",
        "      self.table[ hash_key ] = []\r\n",
        "    self.table[ hash_key ].append(image)\r\n",
        "  \r\n",
        "  def inspect(self):\r\n",
        "    print( self.table.keys() )\r\n",
        "    print( self.table.values() )\r\n",
        "  \r\n",
        "  def get_values_of_key(self, features):\r\n",
        "    hash_key = self.g_function.index(features)\r\n",
        "    value_list = []\r\n",
        "    if hash_key not in self.table:\r\n",
        "      return False\r\n",
        "    else:\r\n",
        "      return self.table[ hash_key ]\r\n",
        "  "
      ],
      "execution_count": null,
      "outputs": []
    },
    {
      "cell_type": "markdown",
      "metadata": {
        "id": "im6VqM7TpmXm"
      },
      "source": [
        "# **LSHash**\r\n",
        "\r\n",
        "LSHash is the structure implementing the lsh index.\r\n",
        "Its parameters are:\r\n",
        "\r\n",
        "1.   hash_size: number of the hyperplane implementing each g function\r\n",
        "2.   num_hash_tables: number of g function, and consequently hash tables\r\n",
        "3.   input_dim: dimension of the features(and of the vector representing each hyperplane)\r\n",
        "\r\n"
      ]
    },
    {
      "cell_type": "code",
      "metadata": {
        "id": "ddOLLZXA4kx0"
      },
      "source": [
        "from numpy import dot\r\n",
        "from numpy.linalg import norm\r\n",
        "import math\r\n",
        "\r\n",
        "class LSHash:\r\n",
        "  def __init__(self,num_g_functions,input_dim,hash_size,mean,std, distance = \"euclidean\"):\r\n",
        "\r\n",
        "    self.hash_size = hash_size\r\n",
        "    self.num_g_functions = num_g_functions\r\n",
        "    self.input_dim = input_dim #128\r\n",
        "    self.init_hash_tables(hash_size,input_dim,mean,std)\r\n",
        "    self.distance = distance\r\n",
        "  \r\n",
        "  #hash_tables will contain the HashTable mapped by each g function\r\n",
        "  def init_hash_tables(self,hash_size,input_dim,mean,std):\r\n",
        "    self.hash_tables = [HashTable(hash_size,input_dim,mean,std) for _ in range(self.num_g_functions)]\r\n",
        "  \r\n",
        "  # We insert the id of the image into the the line of the hash table whose line number corresponds to the id of the hyperplane\r\n",
        "  # on which the projection of the vector of the features is the closest\r\n",
        "  def insert_features(self,id,features, label = -3):\r\n",
        "    for i in range(self.num_g_functions):\r\n",
        "      self.hash_tables[i].add_value( id, features, label)\r\n",
        "\r\n",
        "  def eval_distance(self, actual_features, target_feature):\r\n",
        "    if(self.distance == \"euclidean\"):\r\n",
        "      return np.linalg.norm(actual_features - target_feature)\r\n",
        "    elif( self.distance == \"cosine\"):\r\n",
        "      return (norm(actual_features)*norm(target_feature))/dot(actual_features,target_feature)\r\n",
        "    else:\r\n",
        "      return -1\r\n",
        "  \r\n",
        "  #We find the ids of the images that share the for each g function, all the time, the same hashed key of the features of the image\r\n",
        "  def search(self,features):\r\n",
        "\r\n",
        "    hash_lists = []\r\n",
        "    hash_distance = []\r\n",
        "\r\n",
        "    # for each hash table we retrieve the id of the images that share the same hyperplane of the features that we are projecting\r\n",
        "    for i in range(self.num_g_functions):\r\n",
        "      bucket = self.hash_tables[i].get_values_of_key(features)\r\n",
        "\r\n",
        "      for b in bucket:\r\n",
        "        element = [b.get_id(),b.get_label()]\r\n",
        "        try:\r\n",
        "           hash_lists.index( element ) # controlliamo che l'elemento non sia già in lista\r\n",
        "        except ValueError:\r\n",
        "          hash_lists.append( element ) # se non lo è si solleva l'eccezione e si aggiunge\r\n",
        "          hash_distance.append( self.eval_distance(features, b.get_features()) ) # si calcola la distanza tra le due \r\n",
        "\r\n",
        "    zipped_ids = zip(hash_distance, hash_lists)\r\n",
        "    sorted_zipped_lists = sorted(zipped_ids,reverse=False)\r\n",
        "\r\n",
        "    return sorted_zipped_lists\r\n",
        "    \r\n",
        "  def get_hashTable(self,num):\r\n",
        "    return self.hash_tables[num]\r\n",
        "\r\n",
        "\r\n",
        "  def vote_label( sorted_zipped_list, voting_type = \"majority\" ):  \r\n",
        "    labels_dict = {\r\n",
        "      \"0\": [],\r\n",
        "      \"1\": [],\r\n",
        "      \"2\": [],\r\n",
        "      \"3\": [],\r\n",
        "      \"4\": [],\r\n",
        "      \"5\": [],\r\n",
        "      \"6\": []\r\n",
        "    } \r\n",
        "\r\n",
        "    for distance, hash in sorted_zipped_list:\r\n",
        "      label = str(hash[1])\r\n",
        "      labels_dict[ label ].append( distance )\r\n",
        "    \r\n",
        "    win_label = -1\r\n",
        "    if voting_type == \"log_score\":\r\n",
        "      max_score = math.inf \r\n",
        "      for i in range(6):\r\n",
        "        tmp_max_score = 0\r\n",
        "        for j in range( len( labels_dict[str(i) ] ) ):\r\n",
        "          tmp_max_score += 1 + math.log( labels_dict[str(i)][j] + np.finfo(float).eps, 10) \r\n",
        "\r\n",
        "        if tmp_max_score < max_score:\r\n",
        "          win_label = i \r\n",
        "          max_score = tmp_max_score\r\n",
        "\r\n",
        "    if voting_type == \"majority\":\r\n",
        "      max_score = - math.inf \r\n",
        "      for i in range(6):\r\n",
        "        tmp_max_score = len( labels_dict[str(i) ] )\r\n",
        "        if tmp_max_score > max_score:\r\n",
        "          win_label = i \r\n",
        "          max_score = tmp_max_score\r\n",
        "        elif tmp_max_score == max_score and labels_dict[str(win_label)][0] > labels_dict[str(i)][0]:\r\n",
        "          win_label = i\r\n",
        "\r\n",
        "    return win_label \r\n"
      ],
      "execution_count": null,
      "outputs": []
    },
    {
      "cell_type": "code",
      "metadata": {
        "id": "4ebsUCoGU-fo"
      },
      "source": [
        "import math\r\n",
        "\r\n",
        "def vote_label( sorted_zipped_list, voting_type = \"majority\" ):  \r\n",
        "  labels_dict = {\r\n",
        "    \"0\": [],\r\n",
        "    \"1\": [],\r\n",
        "    \"2\": [],\r\n",
        "    \"3\": [],\r\n",
        "    \"4\": [],\r\n",
        "    \"5\": [],\r\n",
        "    \"6\": []\r\n",
        "  } \r\n",
        "\r\n",
        "  for distance, hash in sorted_zipped_list:\r\n",
        "    label = str(hash[1])\r\n",
        "    labels_dict[ label ].append( distance )\r\n",
        "  \r\n",
        "  win_label = -1\r\n",
        "  if voting_type == \"log_score\":\r\n",
        "    max_score = math.inf \r\n",
        "    for i in range(6):\r\n",
        "      tmp_max_score = 0\r\n",
        "      for j in range( len( labels_dict[str(i) ] ) ):\r\n",
        "        tmp_max_score += 1 + math.log( labels_dict[str(i)][j] + np.finfo(float).eps, 10) \r\n",
        "\r\n",
        "      if tmp_max_score < max_score:\r\n",
        "        win_label = i \r\n",
        "        max_score = tmp_max_score\r\n",
        "\r\n",
        "  if voting_type == \"majority\":\r\n",
        "    max_score = - math.inf \r\n",
        "    for i in range(6):\r\n",
        "      tmp_max_score = len( labels_dict[str(i) ] )\r\n",
        "      if tmp_max_score > max_score:\r\n",
        "        win_label = i \r\n",
        "        max_score = tmp_max_score\r\n",
        "      elif tmp_max_score == max_score and labels_dict[str(win_label)][0] > labels_dict[str(i)][0]:\r\n",
        "        win_label = i\r\n",
        "\r\n",
        "  return win_label \r\n",
        "\r\n",
        "\r\n"
      ],
      "execution_count": null,
      "outputs": []
    },
    {
      "cell_type": "code",
      "metadata": {
        "id": "5o-SLXMo8imn"
      },
      "source": [
        "LSHashIndex = LSHash(8,128,16,mean,std, \"cosine\")\r\n",
        "for i in range(len(numpy_features)):\r\n",
        "  actual_feat = numpy_features[i]\r\n",
        "  actual_id = numpy_ids[i]\r\n",
        "  actual_label = numpy_labels[i]\r\n",
        "  LSHashIndex.insert_features(actual_id,actual_feat,actual_label)"
      ],
      "execution_count": null,
      "outputs": []
    },
    {
      "cell_type": "code",
      "metadata": {
        "colab": {
          "base_uri": "https://localhost:8080/",
          "height": 385
        },
        "id": "bLVxc24rH2FS",
        "outputId": "61f75dcf-84b7-4477-bbf5-9a4d5594dfc5"
      },
      "source": [
        "import PIL\r\n",
        "import matplotlib.image as mpimg\r\n",
        "import matplotlib.pyplot as plt\r\n",
        "\r\n",
        "def visualize_results(results):\r\n",
        "  images = []\r\n",
        "  counter = 0\r\n",
        "  print(\"Num results: \"+str(len(results)))\r\n",
        "  print(results)\r\n",
        "  for result in results:\r\n",
        "    image_path = directory_path + result[1][0]\r\n",
        "    if counter == 25:\r\n",
        "      counter = 0\r\n",
        "      sample_images = np.hstack(images[:25])  # stack 25 images horizontally\r\n",
        "      sample_images = sample_images.astype(np.uint8)  # PIL wants uint8\r\n",
        "      sample_images = PIL.Image.fromarray(sample_images)  # to PIL image\r\n",
        "      display(sample_images) # show it\r\n",
        "      images = []  \r\n",
        "    images.append(np.asarray(mpimg.imread(image_path)))\r\n",
        "    counter += 1\r\n",
        "\r\n",
        "  sample_images = np.hstack(images)  # stack 5 images horizontally\r\n",
        "  sample_images = sample_images.astype(np.uint8)  # PIL wants uint8\r\n",
        "  sample_images = PIL.Image.fromarray(sample_images)  # to PIL image\r\n",
        "  display(sample_images) # show it\r\n",
        "\r\n",
        "directory_path = '/content/gdrive/MyDrive/progetto/dbs/total_dbs/' \r\n",
        "features_0 = numpy_features[2]\r\n",
        "results = LSHashIndex.search(features_0)\r\n",
        "\r\n",
        "\r\n",
        "\r\n",
        "# second_results = LSHashIndex.other_search(features_0)\r\n",
        "# counter = 0\r\n",
        "img = mpimg.imread(directory_path + numpy_ids[2])\r\n",
        "imgplot = plt.imshow(img)\r\n",
        "plt.show()\r\n",
        "visualize_results(results)\r\n",
        "print(\"la label predetta è:\")\r\n",
        "print( LSHash.vote_label(results, \"majority\" ))\r\n",
        "#visualize_results(second_results)\r\n"
      ],
      "execution_count": null,
      "outputs": [
        {
          "output_type": "display_data",
          "data": {
            "image/png": "[encoded data removed]",
            "text/plain": [
              "<Figure size 432x288 with 1 Axes>"
            ]
          },
          "metadata": {
            "tags": [],
            "needs_background": "light"
          }
        },
        {
          "output_type": "stream",
          "text": [
            "Num results: 1\n",
            "[(0.99999994, ['10017.jpg', 0])]\n"
          ],
          "name": "stdout"
        },
        {
          "output_type": "display_data",
          "data": {
            "image/png": "[encoded data removed]",
            "text/plain": [
              "<PIL.Image.Image image mode=RGB size=48x48 at 0x7FC2665CAA58>"
            ]
          },
          "metadata": {
            "tags": []
          }
        },
        {
          "output_type": "stream",
          "text": [
            "la label predetta è:\n",
            "0\n"
          ],
          "name": "stdout"
        }
      ]
    },
    {
      "cell_type": "code",
      "metadata": {
        "id": "Sg4gc12c2sXm"
      },
      "source": [
        "\r\n",
        "pick_path = '/content/gdrive/MyDrive/progetto/pickles/lsh_models'\r\n",
        "\r\n",
        "cosine = \"/cosine_similarity/\"\r\n",
        "eucl = \"/euclidean_distance/\"\r\n",
        "\r\n",
        "for i in [4, 8, 16, 24]:\r\n",
        "    for j in [4, 8, 16, 24]:\r\n",
        "      LSHashIndex1 = LSHash(i,128, j,mean,std, \"cosine\")\r\n",
        "      LSHashIndex2 = LSHash(i,128, j,mean,std)\r\n",
        "\r\n",
        "      np.save( pick_path + cosine + \"g_f=\" + str(i) + \"_h_f=\" + str(j) + \".npy\", LSHashIndex1)\r\n",
        "      np.save( pick_path + eucl + \"g_f=\" + str(i) + \"_h_f=\" + str(j) + \".npy\", LSHashIndex2)"
      ],
      "execution_count": null,
      "outputs": []
    }
  ]
}